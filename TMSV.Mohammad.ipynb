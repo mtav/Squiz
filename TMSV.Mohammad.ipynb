{
 "cells": [
  {
   "cell_type": "markdown",
   "id": "2a56c765-3859-43e0-bf9d-c9924e96e274",
   "metadata": {
    "tags": []
   },
   "source": [
    "We almost completed our goals. Here are the few things we can complete \n",
    "    1. Format this jupyter notebook (we can add mostly main points and conclusions). We mainly need to work on this. her is the colab notebook: https://colab.research.google.com/drive/1GJpz6QQ3cfZVwxEIIa9aacJHIkI2oY2B?usp=sharing\n",
    "    2. We have so much theory, I am preparing a pdf in overleaf (paper style, to impress them, haha):https://www.overleaf.com/8119818887cpphkvmygwmk\n",
    "    3. I have prepared a rough presentation. Feel free to modify the slides.https://docs.google.com/presentation/d/1w7aNlGFCkxzRF_F274jCIw3pSWZ4vip-whXrdA4rb5Q/edit?usp=sharing\n",
    "    \n",
    "(optional)    \n",
    "We can also try, 4.Implemetnt the circuit in a real device. \\\n",
    "5. write an introduction to amplitude encoding and randomness"
   ]
  },
  {
   "cell_type": "markdown",
   "id": "41b48db6-168e-4506-a5a9-65ecd5e94701",
   "metadata": {
    "tags": []
   },
   "source": [
    "## 1. Introduction"
   ]
  },
  {
   "cell_type": "code",
   "execution_count": null,
   "id": "7ac692a2-f92f-410b-ae8d-5e831bf9e93c",
   "metadata": {},
   "outputs": [],
   "source": []
  },
  {
   "cell_type": "markdown",
   "id": "fba450ba-d92f-4f48-b42c-99af49da75fc",
   "metadata": {},
   "source": [
    "#### How can the utilization of squeezed coherent states in superconducting qubits potentially address the challenges of measurement precision, decoherence, and quantum information transfer, thereby advancing the development of quantum hardware?"
   ]
  },
  {
   "cell_type": "markdown",
   "id": "1811bb3d-7872-4b3f-9ad7-33059fa84733",
   "metadata": {},
   "source": [
    "## 2. Goals"
   ]
  },
  {
   "cell_type": "markdown",
   "id": "22e5ff8f-ac67-4f05-bb42-570aa82a27ac",
   "metadata": {
    "tags": []
   },
   "source": [
    "### (i). Developed a generalized algorithm that incorporates two or more modes of squeezing \n",
    "### (ii). Generalize to N-qubit states.\n",
    "### (iii). Minimize the circuit depth\n",
    "### (iv). "
   ]
  },
  {
   "cell_type": "code",
   "execution_count": null,
   "id": "5933b51c-9eff-4dfd-a893-23137c795558",
   "metadata": {},
   "outputs": [],
   "source": []
  },
  {
   "cell_type": "code",
   "execution_count": 1,
   "id": "f0eeff8f-3974-405e-ac09-6989c3083aa1",
   "metadata": {
    "scrolled": true,
    "tags": []
   },
   "outputs": [],
   "source": [
    "#Importing essential libraries\n",
    "\n",
    "import numpy as np\n",
    "from numpy import pi\n",
    "import matplotlib.pyplot as plt\n",
    "\n",
    "from qiskit import *\n",
    "\n",
    "from qiskit import QuantumRegister, ClassicalRegister, QuantumCircuit\n",
    "from qiskit.quantum_info import state_fidelity\n",
    "from qiskit import Aer, transpile\n",
    "from qiskit import QuantumCircuit, execute, BasicAer\n",
    "from qiskit.quantum_info import DensityMatrix\n",
    "from qiskit.visualization import plot_state_city"
   ]
  },
  {
   "cell_type": "code",
   "execution_count": null,
   "id": "f9d20bc9",
   "metadata": {},
   "outputs": [],
   "source": []
  },
  {
   "cell_type": "markdown",
   "id": "6b735754-8988-4f24-ae84-9e70721fb5f8",
   "metadata": {},
   "source": [
    "## 3. Generating a SPDC reference state"
   ]
  },
  {
   "cell_type": "code",
   "execution_count": 2,
   "id": "79b9098e-2e13-4097-9bdb-c1f020e4a61a",
   "metadata": {},
   "outputs": [],
   "source": [
    "#(write the equation)"
   ]
  },
  {
   "cell_type": "code",
   "execution_count": 3,
   "id": "37ec686c-adc6-4292-bc80-b729648c99d9",
   "metadata": {
    "tags": []
   },
   "outputs": [],
   "source": [
    "def Rn(n, r=1, phi=np.pi):\n",
    "    '''\n",
    "    Return the Rn coefficients of the states.\n",
    "    '''\n",
    "    return (1/np.cosh(r))*( ( -np.exp(1j*phi)*np.tanh(r) )**n )"
   ]
  },
  {
   "cell_type": "code",
   "execution_count": 4,
   "id": "1703edfe-db2f-44f6-ac27-45b4462c7d5d",
   "metadata": {
    "tags": []
   },
   "outputs": [],
   "source": [
    "def getTargetStateBasic(N, r=1, phi=np.pi):\n",
    "    '''\n",
    "    Return a list of the necessary Rn coefficients for a given N.\n",
    "    \n",
    "    N: cutoff\n",
    "    2*N: Number of qbits\n",
    "    2**N: Number of states\n",
    "    '''\n",
    "    Nstates = 2**N\n",
    "    \n",
    "    L = [Rn(n, r=r, phi=phi) for n in range(Nstates)]\n",
    "    L = L / np.linalg.norm(L)\n",
    "    return L    "
   ]
  },
  {
   "cell_type": "code",
   "execution_count": null,
   "id": "0c0e32e3-9281-440e-adee-e1f96be96992",
   "metadata": {
    "tags": []
   },
   "outputs": [],
   "source": [
    "def prettyBin(num, N):\n",
    "    '''\n",
    "    Returns *num* as a binary string, zero-padded to N digits.\n",
    "    ex: prettyBin(3, 6) -> '000011'\n",
    "    '''\n",
    "    return '{num:0{N}b}'.format(num=num, N=N)"
   ]
  },
  {
   "cell_type": "code",
   "execution_count": null,
   "id": "da74b5e4-12d0-4a3d-b838-3db9ab7cb874",
   "metadata": {
    "tags": []
   },
   "outputs": [],
   "source": [
    "def getStateIndex(idx_v1_dec, N):\n",
    "    '''\n",
    "    Returns the decimal index of the 'ith state'.\n",
    "    Ex: N=3, 2nd state -> idx_v1 = '010' -> idx_v2 = '010010' -> idx_v2 = 18\n",
    "    getStateIndex(2, 3) -> 18\n",
    "    '''\n",
    "    idx_v1_bin = prettyBin(idx_v1_dec, N)\n",
    "    idx_v2_bin = 2 * idx_v1_bin\n",
    "    idx_v2_dec = int(idx_v2_bin, 2)\n",
    "    return idx_v2_dec"
   ]
  },
  {
   "cell_type": "code",
   "execution_count": null,
   "id": "99e904c9-4693-498c-8c2d-f26bb4a577ff",
   "metadata": {
    "tags": []
   },
   "outputs": [],
   "source": [
    "def getTargetStateAdvanced(N, r=1, phi=np.pi):\n",
    "    '''\n",
    "    Return a list of the necessary Rn coefficients for a given N, but mapped to a system of 2*N qubits.\n",
    "    \n",
    "    N: cutoff\n",
    "    2*N: Number of qbits\n",
    "    2**N: Number of states\n",
    "    '''\n",
    "    \n",
    "    L = getTargetStateBasic(N, r=r, phi=phi)\n",
    "\n",
    "    Nqbits = 2*N\n",
    "    LL = 0j*np.ones(2**Nqbits)\n",
    "\n",
    "    for idx,val in enumerate(L):\n",
    "        idx_v2 = getStateIndex(idx, N)\n",
    "        LL[idx_v2] = val\n",
    "        \n",
    "    return LL"
   ]
  },
  {
   "cell_type": "code",
   "execution_count": null,
   "id": "8a03630c-c580-42a0-9287-b2708f3f8df1",
   "metadata": {
    "tags": []
   },
   "outputs": [],
   "source": [
    "def getReferenceQuantumCircuit(N, r=1, phi=np.pi):\n",
    "    '''\n",
    "    Returns a quantum circuit representing the TMSV state with parameters:\n",
    "    \n",
    "        * cutoff *N*,\n",
    "        * squeezing parameter *r*\n",
    "        * *phi*\n",
    "    '''\n",
    "    Nqbits = 2*N\n",
    "    qc = QuantumCircuit(Nqbits)\n",
    "    x = getTargetStateAdvanced(N, r=r, phi=phi)\n",
    "    qc.initialize(x, qubits=range(Nqbits))\n",
    "    return qc"
   ]
  },
  {
   "cell_type": "code",
   "execution_count": null,
   "id": "fdd3075e-ae54-413a-a3c2-f46c291b7597",
   "metadata": {
    "tags": []
   },
   "outputs": [],
   "source": [
    "def checkQuantumCircuit_v1(qc, N, r=1, phi=np.pi):\n",
    "    qc_ref = getReferenceQuantumCircuit(N, r=r, phi=phi)\n",
    "\n",
    "    backend = Aer.get_backend('statevector_simulator')\n",
    "\n",
    "    sv_ref = execute(qc_ref, backend).result().get_statevector(qc_ref)\n",
    "    sv = execute(qc, backend).result().get_statevector(qc)\n",
    "\n",
    "    return state_fidelity(sv_ref, sv)"
   ]
  },
  {
   "cell_type": "code",
   "execution_count": null,
   "id": "c9255d78-d1c5-476f-982c-970af3411ade",
   "metadata": {
    "tags": []
   },
   "outputs": [],
   "source": [
    "def checkQuantumCircuit_v2(qc, N, r=1, phi=np.pi):\n",
    "    qc_ref = getReferenceQuantumCircuit(N, r=r, phi=phi)\n",
    "    state_ref = DensityMatrix(qc_ref)\n",
    "    state = DensityMatrix(qc)\n",
    "    return state_fidelity(state_ref, state)"
   ]
  },
  {
   "cell_type": "code",
   "execution_count": null,
   "id": "612d3eac-d268-4060-92a5-93be959f7b12",
   "metadata": {},
   "outputs": [],
   "source": [
    "# cutoff\n",
    "N = 2\n",
    "# squeezing parameter\n",
    "r = 1\n",
    "# phi\n",
    "phi = np.pi"
   ]
  },
  {
   "cell_type": "code",
   "execution_count": null,
   "id": "dd47e800-a1e0-4f1f-a6a3-d1e070721d0f",
   "metadata": {},
   "outputs": [],
   "source": []
  },
  {
   "cell_type": "code",
   "execution_count": null,
   "id": "85407b1a-217f-4a04-8cf1-17fe68a73b96",
   "metadata": {},
   "outputs": [],
   "source": [
    "### 3(a). "
   ]
  },
  {
   "cell_type": "code",
   "execution_count": null,
   "id": "c2353758-d6c0-4783-bece-10489527ba91",
   "metadata": {
    "tags": []
   },
   "outputs": [],
   "source": [
    "Nstates = 2**N\n",
    "n = range(Nstates)\n",
    "y = getTargetStateBasic(N, r=r, phi=phi)\n",
    "#y = Rn(n)\n",
    "plt.plot(n, np.real(y), 'b-o', label='$real(R_n)$')\n",
    "#plt.plot(n, np.imag(y), 'r-o', label='$imag(R_n)$')\n",
    "plt.xlabel('n')\n",
    "plt.ylabel('$R_n$')\n",
    "plt.title(f'N={N}, r={r}')\n",
    "plt.legend()\n",
    "plt.show()"
   ]
  },
  {
   "cell_type": "code",
   "execution_count": null,
   "id": "f2ebb5f9-fbbf-489c-8072-22a97256fbf3",
   "metadata": {
    "tags": []
   },
   "outputs": [],
   "source": [
    "# probabilities\n",
    "P = np.abs(y)**2\n",
    "plt.plot(n, P, '-o')\n",
    "plt.xlabel('n')\n",
    "plt.ylabel('$|R_n|^2$')\n",
    "plt.title(f'N={N}, r={r}')\n",
    "plt.show()"
   ]
  },
  {
   "cell_type": "code",
   "execution_count": null,
   "id": "75c35be2-7d8d-49f0-9840-e23027c1db01",
   "metadata": {},
   "outputs": [],
   "source": []
  },
  {
   "cell_type": "code",
   "execution_count": null,
   "id": "f01690a9-de66-4b7e-8bfe-adb2fe454fcc",
   "metadata": {
    "tags": []
   },
   "outputs": [],
   "source": [
    "# probabilities\n",
    "\n",
    "#I am re-defing n as cufoff\\\n",
    "n = np.linspace(1,4,4)\n",
    "\n",
    "P = np.abs(y)**2\n",
    "plt.plot(n, P, '-o')\n",
    "plt.xlabel('Cutoff number')\n",
    "plt.ylabel('State probability ($|R_n|^2$)')\n",
    "plt.savefig('ref_state_probability.png', dpi = 1200, transparent =True)\n",
    "plt.show()"
   ]
  },
  {
   "cell_type": "code",
   "execution_count": null,
   "id": "85e08715-18f6-4694-8c57-109500957670",
   "metadata": {
    "tags": []
   },
   "outputs": [],
   "source": [
    "qc = getReferenceQuantumCircuit(N, r=r, phi=phi)\n",
    "qc.draw('mpl')"
   ]
  },
  {
   "cell_type": "code",
   "execution_count": null,
   "id": "646b17f1-045b-45ea-8e70-56f49a747cb6",
   "metadata": {
    "tags": []
   },
   "outputs": [],
   "source": [
    "state = DensityMatrix(qc)\n",
    "plot_state_city(state, color=['midnightblue', 'crimson'], title=\"New State City\")"
   ]
  },
  {
   "cell_type": "code",
   "execution_count": null,
   "id": "b7d3c2ca-0347-406d-841a-63b0fb2da26f",
   "metadata": {
    "tags": []
   },
   "outputs": [],
   "source": [
    "# Calculate fidelity\n",
    "f1 = checkQuantumCircuit_v1(qc, N, r=r, phi=phi)\n",
    "f2 = checkQuantumCircuit_v2(qc, N, r=r, phi=phi)\n",
    "print(f1)\n",
    "print(f2)"
   ]
  },
  {
   "cell_type": "code",
   "execution_count": null,
   "id": "ba7cd8fc-eebb-403c-a94a-48e77e9bbe74",
   "metadata": {
    "tags": []
   },
   "outputs": [],
   "source": [
    "#Transpiling with the available basic gates\n",
    "circuit = transpile(qc, basis_gates=['cx', 'id', 'rz', 'x', 'sx'])"
   ]
  },
  {
   "cell_type": "code",
   "execution_count": null,
   "id": "431f0f89-cb34-4b02-8802-e4dd45d4d506",
   "metadata": {
    "tags": []
   },
   "outputs": [],
   "source": [
    "circuit.draw()\n",
    "plt.savefig('ref_circuit_transpiled.png',dpi = 1200, transparent = True)\n"
   ]
  },
  {
   "cell_type": "code",
   "execution_count": null,
   "id": "c8760918-270b-4a32-8493-917926c09def",
   "metadata": {
    "tags": []
   },
   "outputs": [],
   "source": []
  },
  {
   "cell_type": "code",
   "execution_count": null,
   "id": "e06b8138-2104-4fd2-831d-3ec0eff9016c",
   "metadata": {
    "tags": []
   },
   "outputs": [],
   "source": []
  },
  {
   "cell_type": "code",
   "execution_count": null,
   "id": "311dfd56-c1f6-4922-9cf3-48fcf8a028cb",
   "metadata": {
    "tags": []
   },
   "outputs": [],
   "source": []
  },
  {
   "cell_type": "code",
   "execution_count": null,
   "id": "f5079024-cbce-48f4-8062-7b25b303098f",
   "metadata": {
    "tags": []
   },
   "outputs": [],
   "source": []
  },
  {
   "cell_type": "code",
   "execution_count": null,
   "id": "ef3d555a-4d19-4f91-a969-ea7ae4ab22de",
   "metadata": {
    "tags": []
   },
   "outputs": [],
   "source": []
  },
  {
   "cell_type": "raw",
   "id": "1ea30c14-2d07-49f4-ae11-524f1c988fbe",
   "metadata": {},
   "source": []
  },
  {
   "cell_type": "code",
   "execution_count": null,
   "id": "535cd65a-c396-4ef9-b184-e0874a0e59c6",
   "metadata": {
    "tags": []
   },
   "outputs": [],
   "source": []
  },
  {
   "cell_type": "code",
   "execution_count": null,
   "id": "4fa90d7b-6fd2-4522-8700-89de4cfa9612",
   "metadata": {
    "tags": []
   },
   "outputs": [],
   "source": [
    "state = DensityMatrix(qc)\n",
    "plot_state_city(state, color=['midnightblue', 'crimson'], title=\"New State City\")\n",
    "plt.savefig('ref_circuit_state_Vectors_3d.png',dpi = 1200, transparent = True)\n"
   ]
  },
  {
   "cell_type": "code",
   "execution_count": null,
   "id": "09cfe4fb-0669-4e7d-92d9-5c20eb347def",
   "metadata": {
    "tags": []
   },
   "outputs": [],
   "source": []
  },
  {
   "cell_type": "code",
   "execution_count": null,
   "id": "6701a672-2fd6-4141-9fdc-5d180fb509b2",
   "metadata": {
    "tags": []
   },
   "outputs": [],
   "source": []
  },
  {
   "cell_type": "code",
   "execution_count": null,
   "id": "065e64b7-b64f-40e9-ac30-22825e7a5df1",
   "metadata": {},
   "outputs": [],
   "source": [
    "## Generating an n-qubit Two-Model Squeezed Vacuum (TMSV) state"
   ]
  },
  {
   "cell_type": "code",
   "execution_count": null,
   "id": "f98fa6a2-8abe-4b08-8c10-b7a35e6fba72",
   "metadata": {},
   "outputs": [],
   "source": []
  },
  {
   "cell_type": "code",
   "execution_count": null,
   "id": "1932fcb1-d02b-4873-92a3-01f2cf3eda2f",
   "metadata": {
    "tags": []
   },
   "outputs": [],
   "source": [
    "##Implementing a n-qubit using Quantum fourier transform\n",
    "\n",
    "def TMSVQuantumCircuit(N, r=1, phi=np.pi):\n",
    "    n = 2*N #Number of registers\n",
    "    qreg_q = QuantumRegister(n, 'q')\n",
    "    #creg_c = ClassicalRegister(n, 'c')\n",
    "    qc = QuantumCircuit(qreg_q)\n",
    "\n",
    "\n",
    "    R = np.tanh(r)#-0.5\n",
    "    for i in range(N):\n",
    "\n",
    "        theta =  2*np.arctan(R**(2**i))\n",
    "        qc.ry(theta, qreg_q[i])\n",
    "        qc.cx(qreg_q[i], qreg_q[N+i])\n",
    "    return qc\n"
   ]
  },
  {
   "cell_type": "code",
   "execution_count": null,
   "id": "9194a1c7-fb65-4971-be64-3a655c78adea",
   "metadata": {
    "tags": []
   },
   "outputs": [],
   "source": []
  },
  {
   "cell_type": "code",
   "execution_count": null,
   "id": "dcecb0b7-8cc4-423c-b562-87fb6f704699",
   "metadata": {
    "tags": []
   },
   "outputs": [],
   "source": [
    "\n"
   ]
  },
  {
   "cell_type": "code",
   "execution_count": null,
   "id": "11e650a4-f807-4114-909d-94bafc5cfcb6",
   "metadata": {},
   "outputs": [],
   "source": [
    "## 3. Re"
   ]
  },
  {
   "cell_type": "code",
   "execution_count": null,
   "id": "2ff0ed73-525f-42a2-952e-968947f1c78c",
   "metadata": {
    "tags": []
   },
   "outputs": [],
   "source": [
    "r = 0.1\n",
    "phi = np.pi\n",
    "\n",
    "qc_ref_depth = []\n",
    "qc_TMSV_depth = []\n",
    "\n",
    "qc_ref_f1 = []\n",
    "qc_TMSV_f1 = []\n",
    "\n",
    "qc_ref_f2 = []\n",
    "qc_TMSV_f2 = []\n",
    "\n",
    "Cut_off = np.arange(1,5)\n",
    "\n",
    "for N in Cut_off:\n",
    "    print(N)\n",
    "    qc_ref = getReferenceQuantumCircuit(N, r=r, phi=phi)\n",
    "    qc_ref = transpile(qc_ref, basis_gates=['cx', 'id', 'rz', 'x', 'sx'])\n",
    "    \n",
    "    qc_TMSV = TMSVQuantumCircuit(N, r=r, phi=phi)\n",
    "    qc_TMSV = transpile(qc_TMSV, basis_gates=['cx', 'id', 'rz', 'x', 'sx'])\n",
    "\n",
    "    qc_ref_depth.append(qc_ref.depth())\n",
    "    qc_TMSV_depth.append(qc_TMSV.depth())\n",
    "    \n",
    "    f1_ref = checkQuantumCircuit_v1(qc_ref, N, r=r, phi=phi)\n",
    "    f2_ref = checkQuantumCircuit_v2(qc_ref, N, r=r, phi=phi)\n",
    "\n",
    "    f1_TMSV = checkQuantumCircuit_v1(qc_TMSV, N, r=r, phi=phi)\n",
    "    f2_TMSV = checkQuantumCircuit_v2(qc_TMSV, N, r=r, phi=phi)\n",
    "\n",
    "\n",
    "    qc_ref_f1.append(f1_ref)\n",
    "    qc_ref_f2.append(f2_ref)\n",
    "\n",
    "    qc_TMSV_f1.append(f1_TMSV)\n",
    "    qc_TMSV_f2.append(f2_TMSV)\n",
    "#qc.measure(qreg_q, creg_c)\n",
    "#qc.draw()"
   ]
  },
  {
   "cell_type": "code",
   "execution_count": null,
   "id": "79bda035-6fa7-4256-9a4b-ce4063170efb",
   "metadata": {
    "tags": []
   },
   "outputs": [],
   "source": [
    "#Plotting the circuit depth\n",
    "plt.plot(Cut_off,qc_ref_depth,'rs-', label='Reference state')\n",
    "plt.plot(Cut_off,qc_TMSV_depth,'go-', label='Two Mode Squeezed Vacuum (TMSV) ')\n",
    "plt.plot(Cut_off,qc_TMSV_depth,'g')\n",
    "plt.xlabel('Cutoff number')\n",
    "plt.ylabel('Circuit depth')\n",
    "plt.legend()\n",
    "plt.savefig('Circuit_depth.png', dpi = 1200, transparent =True)\n",
    "plt.show()"
   ]
  },
  {
   "cell_type": "code",
   "execution_count": null,
   "id": "20818ed0-498a-4c49-9339-06217dd7bc0a",
   "metadata": {},
   "outputs": [],
   "source": []
  },
  {
   "cell_type": "code",
   "execution_count": null,
   "id": "80c85019-c661-4ac3-8776-f153ee5c978d",
   "metadata": {
    "tags": []
   },
   "outputs": [],
   "source": [
    "print(\"Number of gates used in the reference state\",dict(qc_ref.count_ops()))\n",
    "print(\"Number of gates used in the TMSV state\",dict(qc_TMSV.count_ops()))"
   ]
  },
  {
   "cell_type": "code",
   "execution_count": null,
   "id": "737b6338-5530-456b-8e3b-1a10f29a8d95",
   "metadata": {},
   "outputs": [],
   "source": []
  },
  {
   "cell_type": "code",
   "execution_count": null,
   "id": "96fb26be-6296-49d9-8a82-42895c97dfe2",
   "metadata": {
    "tags": []
   },
   "outputs": [],
   "source": [
    "#Plotting the fidelity of the refernce state and the TMSV state\n",
    "\n",
    "#plt.plot(qc_ref_f1,'rs-', label='ref')\n",
    "plt.plot(Cut_off,qc_TMSV_f1,'go-', label='TMSV')\n",
    "#plt.plot(qc_TMSV_depth,'g')\n",
    "#plt.ylim([0.999996,1.00001])\n",
    "plt.xlabel('Cutoff number')\n",
    "plt.ylabel('State Fidelity')\n",
    "plt.legend()\n",
    "plt.savefig('fidelity.png', dpi = 1200, transparent =True)\n",
    "plt.show()"
   ]
  },
  {
   "cell_type": "code",
   "execution_count": null,
   "id": "65a15f27-55d3-4353-97f2-76dc77863a5a",
   "metadata": {
    "tags": []
   },
   "outputs": [],
   "source": []
  },
  {
   "cell_type": "code",
   "execution_count": null,
   "id": "cbfa0141-ad42-435d-ad4b-7c722be4422e",
   "metadata": {
    "tags": []
   },
   "outputs": [],
   "source": [
    "#The transpiled circuit of the reference state\n",
    "qc_ref.draw('mpl')"
   ]
  },
  {
   "cell_type": "code",
   "execution_count": null,
   "id": "5f92c575-5951-4b27-bc53-681c4f7ff981",
   "metadata": {
    "tags": []
   },
   "outputs": [],
   "source": []
  },
  {
   "cell_type": "code",
   "execution_count": null,
   "id": "835c3b59-20a6-4e4c-9dbe-2494da7d40bc",
   "metadata": {
    "tags": []
   },
   "outputs": [],
   "source": [
    "#The transpiled circuit of the TMSV state\n",
    "qc_TMSV.draw('mpl')"
   ]
  },
  {
   "cell_type": "raw",
   "id": "466bac0c-67c2-4245-a4f4-e3035945d6ae",
   "metadata": {
    "tags": []
   },
   "source": []
  },
  {
   "cell_type": "code",
   "execution_count": null,
   "id": "28127d67-0698-4f7e-816c-639b49fff389",
   "metadata": {
    "tags": []
   },
   "outputs": [],
   "source": [
    "#Running on a quantum computer\n"
   ]
  },
  {
   "cell_type": "code",
   "execution_count": null,
   "id": "9d16de7d-688c-44c3-8a74-ee94e5b1f9a3",
   "metadata": {
    "tags": []
   },
   "outputs": [],
   "source": [
    "shots = 4096\n",
    "\n",
    "from qiskit import IBMQ\n",
    "from qiskit.providers.ibmq import least_busy\n",
    "if not IBMQ.active_account():\n",
    "    IBMQ.load_account()\n",
    "provider = IBMQ.get_provider()\n",
    "backend = \"ibm_nairobi\"\n",
    "backend = least_busy(provider.backends(simulator=False))\n",
    "print(\"Least busy backend:\", backend.name())\n",
    "\n",
    "job = execute(qc, backend=backend, shots=shots)\n",
    "\n",
    "from qiskit.tools.monitor import job_monitor\n",
    "job_monitor(job)\n",
    "\n",
    "result = job.result()\n",
    "plot_histogram(result.get_counts(qc))\n",
    "\n"
   ]
  },
  {
   "cell_type": "code",
   "execution_count": null,
   "id": "3d15532e-b235-48b8-9927-723369e95e35",
   "metadata": {
    "tags": []
   },
   "outputs": [],
   "source": []
  },
  {
   "cell_type": "code",
   "execution_count": null,
   "id": "552f1dc2-a530-4729-bbfb-ceebaa717c00",
   "metadata": {},
   "outputs": [],
   "source": []
  }
 ],
 "metadata": {
  "kernelspec": {
   "display_name": "Python 3 (ipykernel)",
   "language": "python",
   "name": "python3"
  },
  "language_info": {
   "codemirror_mode": {
    "name": "ipython",
    "version": 3
   },
   "file_extension": ".py",
   "mimetype": "text/x-python",
   "name": "python",
   "nbconvert_exporter": "python",
   "pygments_lexer": "ipython3",
   "version": "3.10.8"
  },
  "widgets": {
   "application/vnd.jupyter.widget-state+json": {
    "state": {},
    "version_major": 2,
    "version_minor": 0
   }
  }
 },
 "nbformat": 4,
 "nbformat_minor": 5
}
